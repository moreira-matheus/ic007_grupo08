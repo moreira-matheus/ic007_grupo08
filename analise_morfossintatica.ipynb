{
 "cells": [
  {
   "cell_type": "markdown",
   "id": "cb122a76",
   "metadata": {},
   "source": [
    "# Análise Morfossintática\n",
    "\n",
    "Itens obrigatórios:\n",
    "\n",
    "- Numero de sentenças \n",
    "- Numero medio de sentenças\n",
    "- Numero de tokens\n",
    "- Numero medio de tokens\n",
    "- Top-10 tokens\n",
    "- Down-10 tokens\n",
    "- Numero de substativos\n",
    "- Numero de verbos\n",
    "- Numero de preposições\n"
   ]
  },
  {
   "cell_type": "code",
   "execution_count": 35,
   "id": "43306587",
   "metadata": {},
   "outputs": [],
   "source": [
    "#!pip install spacy\n",
    "#!python -m spacy download pt_core_news_sm"
   ]
  },
  {
   "cell_type": "code",
   "execution_count": 32,
   "id": "894eb988",
   "metadata": {},
   "outputs": [],
   "source": [
    "import nltk\n",
    "import spacy\n",
    "from collections import Counter\n",
    "import pandas as pd"
   ]
  },
  {
   "cell_type": "code",
   "execution_count": null,
   "id": "a97ebd15",
   "metadata": {},
   "outputs": [
    {
     "name": "stderr",
     "output_type": "stream",
     "text": [
      "[nltk_data] Downloading package punkt to /home/matheus/nltk_data...\n",
      "[nltk_data]   Package punkt is already up-to-date!\n",
      "[nltk_data] Downloading package punkt_tab to\n",
      "[nltk_data]     /home/matheus/nltk_data...\n",
      "[nltk_data]   Package punkt_tab is already up-to-date!\n",
      "[nltk_data] Downloading package stopwords to\n",
      "[nltk_data]     /home/matheus/nltk_data...\n",
      "[nltk_data]   Package stopwords is already up-to-date!\n",
      "[nltk_data] Error loading perluni: Package 'perluni' not found in\n",
      "[nltk_data]     index\n",
      "[nltk_data] Downloading package nonbreaking_prefixes to\n",
      "[nltk_data]     /home/matheus/nltk_data...\n",
      "[nltk_data]   Package nonbreaking_prefixes is already up-to-date!\n"
     ]
    },
    {
     "data": {
      "text/plain": [
       "True"
      ]
     },
     "execution_count": 2,
     "metadata": {},
     "output_type": "execute_result"
    }
   ],
   "source": [
    "nltk.download('punkt')\n",
    "nltk.download('punkt_tab')\n",
    "nltk.download('stopwords') # For improved tokenization, optionally download stopwords\n",
    "nltk.download('perluni') # To handle Unicode characters effectively\n",
    "nltk.download('nonbreaking_prefixes')"
   ]
  },
  {
   "cell_type": "code",
   "execution_count": 3,
   "id": "4739159d",
   "metadata": {},
   "outputs": [],
   "source": [
    "from nltk.tokenize import sent_tokenize, word_tokenize"
   ]
  },
  {
   "cell_type": "code",
   "execution_count": 57,
   "id": "2ee86ffd",
   "metadata": {},
   "outputs": [],
   "source": [
    "def contar_por_classe_pos(texto):\n",
    "    nlp = spacy.load(\"pt_core_news_sm\")\n",
    "    doc = nlp(texto)\n",
    "    counts = doc.count_by(spacy.attrs.POS)\n",
    "    mapper = {val:key for key, val in spacy.symbols.IDS.items()}\n",
    "\n",
    "    contagens = {mapper[key]: val for key, val in counts.items()}\n",
    "    \n",
    "    return contagens\n"
   ]
  },
  {
   "cell_type": "code",
   "execution_count": 4,
   "id": "10477a29",
   "metadata": {},
   "outputs": [],
   "source": [
    "with open(\"artigo.txt\", \"r\") as arq:\n",
    "    texto = arq.read()"
   ]
  },
  {
   "cell_type": "code",
   "execution_count": 6,
   "id": "4e95e1f8",
   "metadata": {},
   "outputs": [
    {
     "data": {
      "text/plain": [
       "'BPE-Dropout: regular'"
      ]
     },
     "execution_count": 6,
     "metadata": {},
     "output_type": "execute_result"
    }
   ],
   "source": [
    "texto[:20]"
   ]
  },
  {
   "cell_type": "markdown",
   "id": "87c46eed",
   "metadata": {},
   "source": [
    "Número de sentenças:"
   ]
  },
  {
   "cell_type": "code",
   "execution_count": 10,
   "id": "be6fa31e",
   "metadata": {},
   "outputs": [
    {
     "data": {
      "text/plain": [
       "228"
      ]
     },
     "execution_count": 10,
     "metadata": {},
     "output_type": "execute_result"
    }
   ],
   "source": [
    "sentencas = sent_tokenize(texto)\n",
    "len(sentencas)"
   ]
  },
  {
   "cell_type": "markdown",
   "id": "0ec36c38",
   "metadata": {},
   "source": [
    "Número de tokens:"
   ]
  },
  {
   "cell_type": "code",
   "execution_count": 11,
   "id": "26eec36a",
   "metadata": {},
   "outputs": [
    {
     "data": {
      "text/plain": [
       "6408"
      ]
     },
     "execution_count": 11,
     "metadata": {},
     "output_type": "execute_result"
    }
   ],
   "source": [
    "tokens = word_tokenize(texto)\n",
    "len(tokens)"
   ]
  },
  {
   "cell_type": "markdown",
   "id": "1b162374",
   "metadata": {},
   "source": [
    "Número de tokens únicos:"
   ]
  },
  {
   "cell_type": "code",
   "execution_count": 12,
   "id": "96f0d9df",
   "metadata": {},
   "outputs": [
    {
     "data": {
      "text/plain": [
       "1418"
      ]
     },
     "execution_count": 12,
     "metadata": {},
     "output_type": "execute_result"
    }
   ],
   "source": [
    "len(set(tokens))"
   ]
  },
  {
   "cell_type": "code",
   "execution_count": 24,
   "id": "48b2c419",
   "metadata": {},
   "outputs": [],
   "source": [
    "frequencias = pd.DataFrame.from_dict(Counter(tokens), orient=\"index\").reset_index()\\\n",
    "    .rename(columns={'index':'Token', 0:'Freq'}).sort_values(by=\"Freq\", ascending=False)"
   ]
  },
  {
   "cell_type": "markdown",
   "id": "e7a1f0a7",
   "metadata": {},
   "source": [
    "Top 10 tokens:"
   ]
  },
  {
   "cell_type": "code",
   "execution_count": 25,
   "id": "e848a123",
   "metadata": {},
   "outputs": [
    {
     "data": {
      "text/html": [
       "<div>\n",
       "<style scoped>\n",
       "    .dataframe tbody tr th:only-of-type {\n",
       "        vertical-align: middle;\n",
       "    }\n",
       "\n",
       "    .dataframe tbody tr th {\n",
       "        vertical-align: top;\n",
       "    }\n",
       "\n",
       "    .dataframe thead th {\n",
       "        text-align: right;\n",
       "    }\n",
       "</style>\n",
       "<table border=\"1\" class=\"dataframe\">\n",
       "  <thead>\n",
       "    <tr style=\"text-align: right;\">\n",
       "      <th></th>\n",
       "      <th>Token</th>\n",
       "      <th>Freq</th>\n",
       "    </tr>\n",
       "  </thead>\n",
       "  <tbody>\n",
       "    <tr>\n",
       "      <th>7</th>\n",
       "      <td>de</td>\n",
       "      <td>349</td>\n",
       "    </tr>\n",
       "    <tr>\n",
       "      <th>13</th>\n",
       "      <td>,</td>\n",
       "      <td>288</td>\n",
       "    </tr>\n",
       "    <tr>\n",
       "      <th>54</th>\n",
       "      <td>.</td>\n",
       "      <td>228</td>\n",
       "    </tr>\n",
       "    <tr>\n",
       "      <th>57</th>\n",
       "      <td>a</td>\n",
       "      <td>149</td>\n",
       "    </tr>\n",
       "    <tr>\n",
       "      <th>47</th>\n",
       "      <td>o</td>\n",
       "      <td>149</td>\n",
       "    </tr>\n",
       "    <tr>\n",
       "      <th>61</th>\n",
       "      <td>(</td>\n",
       "      <td>128</td>\n",
       "    </tr>\n",
       "    <tr>\n",
       "      <th>63</th>\n",
       "      <td>)</td>\n",
       "      <td>127</td>\n",
       "    </tr>\n",
       "    <tr>\n",
       "      <th>4</th>\n",
       "      <td>e</td>\n",
       "      <td>122</td>\n",
       "    </tr>\n",
       "    <tr>\n",
       "      <th>45</th>\n",
       "      <td>para</td>\n",
       "      <td>94</td>\n",
       "    </tr>\n",
       "    <tr>\n",
       "      <th>107</th>\n",
       "      <td>do</td>\n",
       "      <td>91</td>\n",
       "    </tr>\n",
       "  </tbody>\n",
       "</table>\n",
       "</div>"
      ],
      "text/plain": [
       "    Token  Freq\n",
       "7      de   349\n",
       "13      ,   288\n",
       "54      .   228\n",
       "57      a   149\n",
       "47      o   149\n",
       "61      (   128\n",
       "63      )   127\n",
       "4       e   122\n",
       "45   para    94\n",
       "107    do    91"
      ]
     },
     "execution_count": 25,
     "metadata": {},
     "output_type": "execute_result"
    }
   ],
   "source": [
    "frequencias.head(10)"
   ]
  },
  {
   "cell_type": "markdown",
   "id": "902014bf",
   "metadata": {},
   "source": [
    "Down 10 tokens:"
   ]
  },
  {
   "cell_type": "code",
   "execution_count": 26,
   "id": "300a585c",
   "metadata": {},
   "outputs": [
    {
     "data": {
      "text/html": [
       "<div>\n",
       "<style scoped>\n",
       "    .dataframe tbody tr th:only-of-type {\n",
       "        vertical-align: middle;\n",
       "    }\n",
       "\n",
       "    .dataframe tbody tr th {\n",
       "        vertical-align: top;\n",
       "    }\n",
       "\n",
       "    .dataframe thead th {\n",
       "        text-align: right;\n",
       "    }\n",
       "</style>\n",
       "<table border=\"1\" class=\"dataframe\">\n",
       "  <thead>\n",
       "    <tr style=\"text-align: right;\">\n",
       "      <th></th>\n",
       "      <th>Token</th>\n",
       "      <th>Freq</th>\n",
       "    </tr>\n",
       "  </thead>\n",
       "  <tbody>\n",
       "    <tr>\n",
       "      <th>768</th>\n",
       "      <td>feed-forward</td>\n",
       "      <td>1</td>\n",
       "    </tr>\n",
       "    <tr>\n",
       "      <th>189</th>\n",
       "      <td>Há</td>\n",
       "      <td>1</td>\n",
       "    </tr>\n",
       "    <tr>\n",
       "      <th>188</th>\n",
       "      <td>simplicidade</td>\n",
       "      <td>1</td>\n",
       "    </tr>\n",
       "    <tr>\n",
       "      <th>186</th>\n",
       "      <td>utilizado</td>\n",
       "      <td>1</td>\n",
       "    </tr>\n",
       "    <tr>\n",
       "      <th>185</th>\n",
       "      <td>OpenVocabulary</td>\n",
       "      <td>1</td>\n",
       "    </tr>\n",
       "    <tr>\n",
       "      <th>184</th>\n",
       "      <td>efetivamente</td>\n",
       "      <td>1</td>\n",
       "    </tr>\n",
       "    <tr>\n",
       "      <th>183</th>\n",
       "      <td>lida</td>\n",
       "      <td>1</td>\n",
       "    </tr>\n",
       "    <tr>\n",
       "      <th>182</th>\n",
       "      <td>transliteração</td>\n",
       "      <td>1</td>\n",
       "    </tr>\n",
       "    <tr>\n",
       "      <th>793</th>\n",
       "      <td>gradients</td>\n",
       "      <td>1</td>\n",
       "    </tr>\n",
       "    <tr>\n",
       "      <th>776</th>\n",
       "      <td>//github.com/moses-smt/</td>\n",
       "      <td>1</td>\n",
       "    </tr>\n",
       "  </tbody>\n",
       "</table>\n",
       "</div>"
      ],
      "text/plain": [
       "                       Token  Freq\n",
       "768             feed-forward     1\n",
       "189                       Há     1\n",
       "188             simplicidade     1\n",
       "186                utilizado     1\n",
       "185           OpenVocabulary     1\n",
       "184             efetivamente     1\n",
       "183                     lida     1\n",
       "182           transliteração     1\n",
       "793                gradients     1\n",
       "776  //github.com/moses-smt/     1"
      ]
     },
     "execution_count": 26,
     "metadata": {},
     "output_type": "execute_result"
    }
   ],
   "source": [
    "frequencias.tail(10)"
   ]
  },
  {
   "cell_type": "markdown",
   "id": "7514e4bf",
   "metadata": {},
   "source": [
    "### Etiquetagem PoS"
   ]
  },
  {
   "cell_type": "code",
   "execution_count": 58,
   "id": "c57b0421",
   "metadata": {},
   "outputs": [],
   "source": [
    "contagens = contar_por_classe_pos(texto)"
   ]
  },
  {
   "cell_type": "markdown",
   "id": "19ffb9e8",
   "metadata": {},
   "source": [
    "Ref.: https://universaldependencies.org/u/pos/"
   ]
  },
  {
   "cell_type": "markdown",
   "id": "0b0e40be",
   "metadata": {},
   "source": [
    "Número de substantivos:"
   ]
  },
  {
   "cell_type": "code",
   "execution_count": null,
   "id": "40b0dcbc",
   "metadata": {},
   "outputs": [
    {
     "name": "stdout",
     "output_type": "stream",
     "text": [
      "Num.substantivos comuns:  1393\n",
      "Num. substantivos próprios:  580\n",
      "Total:  1973\n"
     ]
    }
   ],
   "source": [
    "print(\"Num. substantivos comuns: \", contagens[\"NOUN\"])\n",
    "print(\"Num. substantivos próprios: \", contagens[\"PROPN\"])\n",
    "print(\"Total: \", contagens[\"NOUN\"] + contagens[\"PROPN\"])"
   ]
  },
  {
   "cell_type": "markdown",
   "id": "77a2190d",
   "metadata": {},
   "source": [
    "Número de verbos:"
   ]
  },
  {
   "cell_type": "code",
   "execution_count": 61,
   "id": "df023887",
   "metadata": {},
   "outputs": [
    {
     "data": {
      "text/plain": [
       "523"
      ]
     },
     "execution_count": 61,
     "metadata": {},
     "output_type": "execute_result"
    }
   ],
   "source": [
    "contagens[\"VERB\"]"
   ]
  },
  {
   "cell_type": "markdown",
   "id": "68e0be4f",
   "metadata": {},
   "source": [
    "Número de adposições:"
   ]
  },
  {
   "cell_type": "code",
   "execution_count": 62,
   "id": "47df02ac",
   "metadata": {},
   "outputs": [
    {
     "data": {
      "text/plain": [
       "1008"
      ]
     },
     "execution_count": 62,
     "metadata": {},
     "output_type": "execute_result"
    }
   ],
   "source": [
    "contagens[\"ADP\"]"
   ]
  }
 ],
 "metadata": {
  "kernelspec": {
   "display_name": "Python 3",
   "language": "python",
   "name": "python3"
  },
  "language_info": {
   "codemirror_mode": {
    "name": "ipython",
    "version": 3
   },
   "file_extension": ".py",
   "mimetype": "text/x-python",
   "name": "python",
   "nbconvert_exporter": "python",
   "pygments_lexer": "ipython3",
   "version": "3.11.10"
  }
 },
 "nbformat": 4,
 "nbformat_minor": 5
}
