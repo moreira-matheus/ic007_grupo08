{
 "cells": [
  {
   "cell_type": "code",
   "execution_count": null,
   "id": "0a7d832b",
   "metadata": {},
   "outputs": [],
   "source": [
    "import os\n",
    "import pymupdf4llm\n",
    "import re\n",
    "import tqdm\n",
    "\n",
    "from langdetect import detect # Add to requirements.txt\n",
    "from itertools import pairwise\n",
    "from unicodedata import normalize\n",
    "\n",
    "from nltk.tokenize import sent_tokenize\n",
    "from deep_translator import GoogleTranslator"
   ]
  },
  {
   "cell_type": "markdown",
   "id": "cf29a860",
   "metadata": {},
   "source": [
    "https://pypi.org/project/langdetect/"
   ]
  },
  {
   "cell_type": "code",
   "execution_count": 96,
   "id": "fe4d3ced",
   "metadata": {},
   "outputs": [],
   "source": [
    "#!pip install langdetect"
   ]
  },
  {
   "cell_type": "code",
   "execution_count": 3,
   "id": "92f5e385",
   "metadata": {},
   "outputs": [],
   "source": [
    "INPUT_DIR = \"./input/\""
   ]
  },
  {
   "cell_type": "code",
   "execution_count": 18,
   "id": "80a2dd28",
   "metadata": {},
   "outputs": [],
   "source": [
    "def pre_process_md(md_text_):\n",
    "    md_text = normalize('NFKD', md_text_).encode('ascii','ignore').decode(\"utf-8\")\n",
    "    md_text = re.sub(r'\\n+', '\\n', md_text).strip()\n",
    "    md_text = re.sub(r\"-{3,}\", \"\", md_text).strip()\n",
    "\n",
    "    return md_text\n",
    "\n",
    "def translate_text(text, src_lang, tgt_lang):\n",
    "        all_translated = []\n",
    "\n",
    "        for sentence in tqdm.tqdm(sent_tokenize(text)):\n",
    "            translated = GoogleTranslator(\n",
    "                source=src_lang,\n",
    "                target=tgt_lang\n",
    "            ).translate(sentence)\n",
    "            \n",
    "            all_translated.append(translated)\n",
    "        \n",
    "        return ' '.join(all_translated)\n",
    "\n",
    "def post_process_md(md_text_):\n",
    "    if md_text_ is None:\n",
    "        return None\n",
    "    \n",
    "    md_text = re.sub(r\"\\*{1,}\", \"\", md_text_).strip()\n",
    "    md_text = re.sub(r\"#{1,}\", \"\", md_text).strip()\n",
    "    md_text = re.sub(r\"-\\* \\*\", \"\", md_text).strip()\n",
    "    md_text = re.sub(r\"\\* \\*\", \" \", md_text).strip()\n",
    "    md_text = re.sub(r\"\\n\", \" \", md_text).strip()\n",
    "\n",
    "    return md_text\n"
   ]
  },
  {
   "cell_type": "code",
   "execution_count": 8,
   "id": "1d65240f",
   "metadata": {},
   "outputs": [],
   "source": [
    "preprocessed_md_texts = []\n",
    "\n",
    "for fname in tqdm.tqdm(os.listdir(INPUT_DIR)):\n",
    "    full_fname = os.path.join(INPUT_DIR, fname)\n",
    "    raw_md_text = pymupdf4llm.to_markdown(full_fname)\n",
    "    preprocessed_md_text = pre_process_md(raw_md_text)\n",
    "    preprocessed_md_texts.append(preprocessed_md_text)\n"
   ]
  },
  {
   "cell_type": "code",
   "execution_count": null,
   "id": "8bc9fb14",
   "metadata": {},
   "outputs": [],
   "source": [
    "def detect_language(text):\n",
    "    return detect(text)"
   ]
  },
  {
   "cell_type": "code",
   "execution_count": null,
   "id": "e415b900",
   "metadata": {},
   "outputs": [],
   "source": [
    "def extract_title(preprocessed_md_text):\n",
    "    pat = r\"^#\\s\\*\\*(.+)\\*\\*\\n\"\n",
    "    match = re.search(pat, preprocessed_md_text)\n",
    "    if match:\n",
    "        return post_process_md(match.group(1))\n",
    "    \n",
    "    return None\n",
    "\n",
    "def extract_authors(preprocessed_md_text):\n",
    "    pat = r\"^###\\s(.+)$\"\n",
    "    authors = [\n",
    "        re.search(pat, preprocessed_md_text, re.MULTILINE).group(1)\n",
    "    ]\n",
    "    return authors\n",
    "\n",
    "def extract_abstract(preprocessed_md_text):\n",
    "    pat = r\"^###\\s\\*Abstract\\.\\s(.+)\\*\"\n",
    "    match = re.search(pat, preprocessed_md_text, re.M)\n",
    "    if match:\n",
    "        return post_process_md(match.group(1))\n",
    "    \n",
    "    return None\n",
    "\n",
    "def extract_sections(preprocessed_md_text):\n",
    "    pat = r\"^##\\s\\*\\*(.+)\\*\\*$\"\n",
    "    section_titles = []\n",
    "    section_contents = []\n",
    "    line_starts = []\n",
    "\n",
    "    for match in re.finditer(pat, preprocessed_md_text, re.MULTILINE):\n",
    "        section_titles.append(match.group(1))\n",
    "        line_starts.append(match.start())\n",
    "\n",
    "    line_starts = line_starts + [len(preprocessed_md_text)]\n",
    "\n",
    "    for start, end in pairwise(line_starts):\n",
    "        section_contents.append(preprocessed_md_text[start:end-1])\n",
    "\n",
    "    sections = {\n",
    "        title: content\\\n",
    "            for title, content in zip(section_titles, section_contents) \n",
    "    }\n",
    "    return sections\n"
   ]
  },
  {
   "cell_type": "code",
   "execution_count": 105,
   "id": "6db5a636",
   "metadata": {},
   "outputs": [],
   "source": [
    "def split_references(md_text, section_name): # Check for Referencias or References\n",
    "    split = md_text.split(f\"## **{section_name}**\", 2)\n",
    "    if len(split) == 2:\n",
    "        return post_process_md(split[0]), post_process_md(split[1])\n",
    "    \n",
    "    return post_process_md(split[0]), \"\"\n",
    "\n",
    "def retrieve_references_from_sections(sections_dict):\n",
    "    SECTION_NAMES = [\"References\", \"Referencias\"]\n",
    "    candidate_keys = [key for key in sections_dict.keys() if key in SECTION_NAMES]\n",
    "    if not candidate_keys:\n",
    "        return None\n",
    "    \n",
    "    return sections_dict.get(candidate_keys[0])\n",
    "\n",
    "def post_process_references(referencs_from_sections):\n",
    "    pass\n"
   ]
  },
  {
   "cell_type": "code",
   "execution_count": 103,
   "id": "f0a49764",
   "metadata": {},
   "outputs": [],
   "source": [
    "def adjust_to_template(preprocessed_md_text):\n",
    "    template = {}\n",
    "    template[\"titulo\"] = extract_title(preprocessed_md_text)\n",
    "    template[\"informacoes_url\"] = None\n",
    "    template[\"idioma\"] = detect_language(preprocessed_md_text)\n",
    "    template[\"storage_key\"] = None\n",
    "    template[\"autores\"] = extract_authors(preprocessed_md_text)\n",
    "    template[\"data_publicacao\"] = None\n",
    "    template[\"resumo\"] = extract_abstract(preprocessed_md_text)\n",
    "    template[\"keywords\"] = None\n",
    "\n",
    "    sections_dict = extract_sections(preprocessed_md_text)\n",
    "    template[\"referencias\"] = retrieve_references_from_sections(sections_dict)\n",
    "    template[\"artigo_completo\"] = None\n",
    "    template[\"artigo_tokenizado\"] = None\n",
    "    template[\"pos_tagger\"] = None\n",
    "    template[\"lema\"] = None\n",
    "\n",
    "    return template"
   ]
  },
  {
   "cell_type": "code",
   "execution_count": 104,
   "id": "41c33a44",
   "metadata": {},
   "outputs": [
    {
     "data": {
      "text/plain": [
       "{'titulo': 'Impact of Shot Noise Estimation on the Secret Key Rate of a CV-QKD System',\n",
       " 'informacoes_url': None,\n",
       " 'idioma': 'en',\n",
       " 'storage_key': None,\n",
       " 'autores': ['Daniel Pereira [1] [,] [2], Nuno A. Silva [1], Armando N. Pinto [1] [,] [2] 1 Instituto de Telecomunicac  oes, University of Aveiro, Campus Universit ario de Santiago, 3810-193, Aveiro, Portugal 2 Department of Electronics, Telecommunications and Informatics, University of Aveiro, Campus Universit ario de Santiago, 3810-193, Aveiro, Portugal'],\n",
       " 'data_publicacao': None,\n",
       " 'resumo': 'In this work we present the impact of the uncertainty of the shot noise estimate on the performance of a continuous variables quantum key distribution system using a probabilistically shaped 128-APSK constellation. We demons- trate that the performance of the system is greatly degraded by the uncertainty of the shot noise estimate, with a total loss of security being possible.',\n",
       " 'keywords': None,\n",
       " 'referencias': '## **Referencias**\\n### Almeida, M. (2021). Practical security limits of continuous-variable quantum key distri- bution. Masters thesis, University of Aveiro. Almeida, M., Pereira, D., Muga, N., Fac ao, M., Pinto, A. N., and Silva, N. A. (2021). Secret key rate of multi-ring m-apsk continuous variable quantum key distribution. Optics Express . Bennett, C. H. and Brassard, G. (1984). Quantum cryptography: Public key distribution and con tos5. In Proceedings of the International Conference on Computers, Systems and Signal Processing . Denys, A., Brown, P., and Leverrier, A. (2021). Explicit asymptotic secret key rate of continuous-variable quantum key distribution with an arbitrary modulation. Quantum, 5:540. Faruk, M. S. and Savory, S. J. (2017). Digital signal processing for coherent transceivers employing multilevel formats. Journal of Lightwave Technology, 35(5):11251141. Grosshans, F. and Grangier, P. (2002). Continuous variable quantum cryptography using coherent states. Physical Review Letters, 88(5):057902. Kleis, S., Rueckmann, M., and Schaeffer, C. G. (2017). Continuous variable quantum key distribution with a real local oscillator using simultaneous pilot signals. Optics letters, 42(8):15881591. Leverrier, A. (2009). Theoretical study of continuous-variable quantum key distribution . PhD thesis, T el ecom ParisTech. Leverrier, A., Grosshans, F., and Grangier, P. (2010). Finite-size analysis of a continuous- variable quantum key distribution. Physical Review A, 81(6):062343. Pereira, D., Silva, N. A., and Pinto, A. N. (2021). A polarization diversity cv-qkd detec- tion scheme for channels with strong polarization drift. In 2021 IEEE International Conference on Quantum Computing and Engineering (QCE), pages 469470. IEEE. Qi, B., Lougovski, P., Pooser, R., Grice, W., and Bobrek, M. (2015). Generating the local oscillator locally in continuous-variable quantum key distribution based on coherent detection. Physical Review X, 5(4):041009. Ralph, T. C. (1999). Continuous variable quantum cryptography. Phys. Rev. A, 61:010303. Sergienko, A. V. (2018). Quantum communications and cryptography . CRC press, ',\n",
       " 'artigo_completo': None,\n",
       " 'artigo_tokenizado': None,\n",
       " 'pos_tagger': None,\n",
       " 'lema': None}"
      ]
     },
     "execution_count": 104,
     "metadata": {},
     "output_type": "execute_result"
    }
   ],
   "source": [
    "adjust_to_template(preprocessed_md_text)"
   ]
  },
  {
   "cell_type": "code",
   "execution_count": 100,
   "id": "73c00a44",
   "metadata": {},
   "outputs": [
    {
     "data": {
      "text/plain": [
       "'## **Referencias**\\n### Almeida, M. (2021). Practical security limits of continuous-variable quantum key distri- bution. Masters thesis, University of Aveiro. Almeida, M., Pereira, D., Muga, N., Fac ao, M., Pinto, A. N., and Silva, N. A. (2021). Secret key rate of multi-ring m-apsk continuous variable quantum key distribution. Optics Express . Bennett, C. H. and Brassard, G. (1984). Quantum cryptography: Public key distribution and con tos5. In Proceedings of the International Conference on Computers, Systems and Signal Processing . Denys, A., Brown, P., and Leverrier, A. (2021). Explicit asymptotic secret key rate of continuous-variable quantum key distribution with an arbitrary modulation. Quantum, 5:540. Faruk, M. S. and Savory, S. J. (2017). Digital signal processing for coherent transceivers employing multilevel formats. Journal of Lightwave Technology, 35(5):11251141. Grosshans, F. and Grangier, P. (2002). Continuous variable quantum cryptography using coherent states. Physical Review Letters, 88(5):057902. Kleis, S., Rueckmann, M., and Schaeffer, C. G. (2017). Continuous variable quantum key distribution with a real local oscillator using simultaneous pilot signals. Optics letters, 42(8):15881591. Leverrier, A. (2009). Theoretical study of continuous-variable quantum key distribution . PhD thesis, T el ecom ParisTech. Leverrier, A., Grosshans, F., and Grangier, P. (2010). Finite-size analysis of a continuous- variable quantum key distribution. Physical Review A, 81(6):062343. Pereira, D., Silva, N. A., and Pinto, A. N. (2021). A polarization diversity cv-qkd detec- tion scheme for channels with strong polarization drift. In 2021 IEEE International Conference on Quantum Computing and Engineering (QCE), pages 469470. IEEE. Qi, B., Lougovski, P., Pooser, R., Grice, W., and Bobrek, M. (2015). Generating the local oscillator locally in continuous-variable quantum key distribution based on coherent detection. Physical Review X, 5(4):041009. Ralph, T. C. (1999). Continuous variable quantum cryptography. Phys. Rev. A, 61:010303. Sergienko, A. V. (2018). Quantum communications and cryptography . CRC press, '"
      ]
     },
     "execution_count": 100,
     "metadata": {},
     "output_type": "execute_result"
    }
   ],
   "source": [
    "retrieve_references_from_sections(extract_sections(preprocessed_md_text))"
   ]
  },
  {
   "cell_type": "code",
   "execution_count": null,
   "id": "6a100479",
   "metadata": {},
   "outputs": [],
   "source": []
  },
  {
   "cell_type": "code",
   "execution_count": 10,
   "id": "f29cd450",
   "metadata": {},
   "outputs": [
    {
     "name": "stdout",
     "output_type": "stream",
     "text": [
      "# **Impact of Shot Noise Estimation on the Secret Key Rate of a** **CV-QKD System**\n",
      "### Daniel Pereira [1] [,] [2], Nuno A. Silva [1], Armando N. Pinto [1] [,] [2] 1 Instituto de Telecomunicac  oes, University of Aveiro, Campus Universit ario de Santiago, 3810-193, Aveiro, Portugal 2 Department of Electronics, Telecommunications and Informatics, University of Aveiro, Campus Universit ario de Santiago, 3810-193, Aveiro, Portugal\n",
      "danielfpereira@ua.pt, nasilva@ua.pt, anp@ua.pt\n",
      "### *Abstract. In this work we present the impact of the uncertainty of the shot noise* *estimate on the performance of a continuous variables quantum key distribution* *system using a probabilistically shaped 128-APSK constellation. We demons-* *trate that the performance of the system is greatly degraded by the uncertainty* *of the shot noise estimate, with a total loss of security being possible.*\n",
      "## **1. Introduction**\n",
      "### The near-future emergence of a practical quantum computer is a threat to classical cryptography, with prime number based classical cryptography being particularly af- fected [Sergienko 2018]. Quantum Key Distribution (QKD) tackles the problem of the generation and distribution of symmetric cryptographic keys without assuming any computational limitations [Sergienko 2018]. Continuous Variables QKD (CV-QKD) is a subset of QKD that uses weak coherent states to transmit the keys, thus al- lowing for implementation with current modulation methods and telecom-based equip- ment [Grosshans and Grangier 2002]. The security of CV-QKD systems is evaluated with recourse to the communication channels parameters, and since their value is evaluated in relation to the receivers shot noise, a precise characterization of the receiver is mandatory for the implementation of secure CV-QKD systems [Leverrier et al. 2010]. QKD was first proposed in 1984, using the polarization of single photons as a co- ding basis [Bennett and Brassard 1984]. Nevertheless, the use of single photons demands the use of specialized equipment for single photon generation and detection [Ralph 1999]. As an alternative, coherent-state CV-QKD was proposed. The first implementations of CV-QKD were carried out by using a transmitted local oscillator (LO) setup [Ralph 1999]. However, that was found to be a security flaw, because an eavesdropper could manipulate the LO, thus hiding their tampering on the quantum signal itself [Qi et al. 2015]. In that scenario, local LO (LLO) techniques, aided by digital signal processing (DSP), are today the most common implementations of CV-QKD [Qi et al. 2015]. These LLO techniques usually employ a relatively high power pilot tone, with the pilot being multiplexed with the quantum signal, to allow for frequency and phase recovery between the different la- sers at the transmitter and receiver [Kleis et al. 2017, Pereira et al. 2021]. Lately, LLO CV-QKD implementations using single-sideband modulation with heterodyne detection have been proposed, avoiding low-frequency noise [Kleis et al. 2017, Pereira et al. 2021].\n",
      "\n",
      "### In order to further maximize noise rejection, CV-QKD implementations using root- raised-cosine (RRC) signal modulation have been explored [Kleis et al. 2017]. The se- curity bounds of CV-QKD systems were established in [Leverrier 2009] and updated in [Denys et al. 2021], where the security is evaluated via the channel parameters (trans- mission and excess noise). In order to estimate the channel parameters, the receivers shot noise has to have been precisely estimated [Leverrier 2009]. The fact that the channel parameters are estimated from a finite number of samples, thus being subjected to an im- perfect estimation, needs to be taken into account [Leverrier et al. 2010]. However, the work in [Leverrier et al. 2010] does not tackle the problem of the imperfect estimation of the shot noise of the receiver, a problem that, to best of our knowledge, has not been approached before. In this paper, we explore the need for precise estimations of the receivers shot noise, and study the compounding effect of the estimation imperfections on the security of a CV-QKD system, employing true heterodyne detection and RRC modulation. This work is divided into four sections. In Section 2, we describe the generic system under analysis. In Section 3, we show the impact of the uncertainty of the shot noise estimate on the performance of the system. We finalize this work with a summary of the major conclusions in Section 4.\n",
      "## **2. System Description**\n",
      "### A simplified block diagram of the experimental CV-QKD system assumed in this work is presented in Fig. 1. Alice starts by modulating the optical signal that she extracts from her\n",
      "**Figura 1. Block diagram of the CV-QKD system assumed in this work, including**\n",
      "**a representation of the employed constellation.**\n",
      "### local coherent source, which consists of a Yenista OSICS Band C/AG TLS laser, tuned to 1550.004 nm. RRC modulation is chosen because of the possibility of using matched fil- tering at the receiver without inter-symbolic interference [Faruk and Savory 2017], thus allowing for optimum Gaussian white-noise minimization. The symbol rate was set at 153.6 MBd, with a 128-amplitude and-phase-shift keying (128-APSK) constellation, the security of which was established in [Almeida 2021]. An image of the employed cons- tellation is included in Figure 1 as an inset. The RRC signal is then up-converted in the transmitter to an intermediate frequency, f Q = 153 . 6 MHz. Furthermore, this signal is frequency multiplexed with a DC pilot tone, i.e. f P = 0 Hz, which will be used for frequency and phase recovery at the receiver. This signal is fed into a Texas Instruments DAC39J84EVM digital to analog converter (DAC), which in turn drives a u2t Photonics 32 GHz IQ modulator coupled with a SHF807 RF amplifier. The signal is then sent th- rough a single-mode fibre spool with a length of 40 km before arriving at the receiver.\n",
      "\n",
      "### The LLO consists of a Yenista OSICS Band C/AG TLS laser tuned to 1549.999 nm, in this situation the signals have a frequency shift of f S  800 MHz. The outputs of each coherent receiver, which consist of a pair of Thorlabs PDB480C-AC balanced optical receivers, are digitized by a Texas Instruments ADC32RF45EVM ana- log to digital converter (ADC) board, which is running at a sample rate of 2.4576 GS/s. The digitized signals are then fed into the digital signal processing (DSP) stage, where they are subjected to frequency, phase and clock recovery, steps which are aided by the pilot tone inserted at f P, and matched filtering. For a more detailed description of the polarization diverse receiver, see [Pereira et al. 2021]. The shot noise estimation is made with recourse to a capture of the receiver output with the transmitter laser turned off. Due to the non-flatness of the spectral response of the receiver, the shot noise value is highly dependent on the spectral position of the signal. Due to this, as the difference between the frequencies of the two lasers fluctuates, to obtain a precise shot noise estimation, the same DSP that was previously applied to the quantum signal is applied to the shot noise capture obtained previously, being down converted, phase compensated and filtered before its variance is computed. Since we cannot measure the shot noise without also including the thermal noise, the latter was obtained first and its value was subtracted from the variance of the former, yielding an estimate for the shot noise, s [2] shot [. After estimation of the receivers shot noise, the signal] output by Bobs DSP can be converted to Shot Noise Units (SNU), this is accomplished by dividing the ADC count output by  s [2] shot [. Bobs and Alices states,] [ b] [ and] [ a] [ respectively,] are related by the normal linear model [Kleis et al. 2017]: b = ta + z, (1) where a is assumed to be normalized such that E {|a| [2] } = 1, t =  T 2 n, where  is the quantum efficiency of Bobs detection system, T is the channel transmission and n is the average number of photons per symbol. z is the models noise contribution, which follows a normal distribution with null mean and variance  [2] = 2 + 2  thermal + T, where  is the excess channel noise and  thermal is the receivers thermal noise. In (1), a is generated by Alice when she chooses the symbols to send, while b corresponds to Bobs output constellation after it has been converted to SNU. Moreover in (1), t and  [2] can be estimated through [Kleis et al. 2017]\n",
      "### \n",
      "###   t = Re\n",
      "*N*\n",
      "###  i = 1 [a] [i] [b] i [] *N* \n",
      "*N*\n",
      "###,    [2] =  i = 1 [|] [b] N [i] [ ] [ta] [ ] [i] [|] [2], (2)\n",
      "### the transmission and excess noise are then estimated through\n",
      "###     t [2] T =\n",
      "### . (3) T [ ]\n",
      "### t   [2]    = [] [ ] [2] [ ] [2] [ ] [2] [] [thermal]  2 n [,] T [ ]\n",
      "### Protocol security is evaluated following the methodology presented in [Denys et al. 2021]. The achievable secret key rate is given by K = I BA   BE, (4)\n",
      "\n",
      "### where  is the reconciliation efficiency, I BA is the mutual information between Bob and Alice, given by [Kleis et al. 2017]\n",
      "### 2 T [ ]   n  1 + 2 + T [ ]    + 2  thermal\n",
      "### I BA = log 2\n",
      "### \n",
      "### . (5)\n",
      "### In (4),  BE describes the Holevo bound that majors the amount of information that Eve can gain on Bobs recovered states, being obtained through equation (5) in [Almeida et al. 2021]. For the results presented in this work n was set at 1.91 photons per symbol,  was measured at 0.72 and  thermal was assumed to be 0.35 SNU.\n",
      "## **3. Impact of receiver noise imperfect estimation**\n",
      "### The formula for the (1   ) confidence interval of a variance estimate, s [2], done with recourse to a sufficiently large number of samples, N, is given by the inequalities\n",
      "###   [2]  s [2] 1 + z / 2 \n",
      "###   [2]  s [2] \n",
      "### s [2] 1  z / 2 \n",
      "### 2  N\n",
      "### \n",
      "### ~~~~\n",
      "### 2 *N*\n",
      "### \n",
      "###, (6)\n",
      "### where z / 2 is the 100(1  [] 2 [)][th percentile of a standard normal distribution. In order to] ensure security with certain degree of confidence , the worst case scenario value, i.e. the values that give the most advantage to Eve, for each value in the given confidence interval needs to be taken. For the case of the shot noise, this corresponds to obtaining the channel transmission estimation using the upper bound of the shot noise estimation to convert Bobs DSP output to SNU, and to obtaining the excess noise estimation using the lower bound. In doing this, we are splitting the linear model (1) in two b upper = t upper a + z upper, (7) b lower = t lower a + z lower, (8) and computing T [ ] from the upper one and    from the lower one (while using the channel transmission estimation obtained previously). Furthermore, the uncertainty of the channel parameter estimations themselves need to be taken into account. The confidence interval for the variance of z i will follow the same behavior as shown in (6), meanwhile the channel transmission estimate will have the confidence interval:\n",
      "### ~~~~\n",
      "### ~~~~\n",
      "###   2 ** (9) *N*\n",
      "###   t  z / 2\n",
      "###   2 ** N [] [t][ ] [t] [ ][ +] [ z] [/] [2]\n",
      "###   2 **\n",
      "### For the channel parameters, the worst case scenarios correspond to the lower bound of the channel transmission and the upper bound of the excess noise. In Figure 2, we present results showing the worst case scenario secure key rate in function of confidence level of the estimates. In obtaining these results, the average va- lues for the channel transmission and excess noise observed in our experimental system, 0.1418 and 0.0258 [SNU] respectively, were taken, and the worst case scenario estima- tes were computed assuming that three different numbers of symbols were used in their estimation. We take into account that, due to the symbol- and sampling-rate used in our\n",
      "\n",
      "**10** **[-2]**\n",
      "**10** **[-3]**\n",
      "**10** **[-4]**\n",
      "**10** **[-5]**\n",
      "**10** **[-6]**\n",
      "**10** **[-7]**\n",
      "|Col1|Col2|Col3|Col4|Col5|Col6|Col7|Col8|Col9|Col10|Col11|Col12|Col13|Col14|Col15|Col16|Col17|Col18|Col19|Col20|Col21|Col22|\n",
      "|||||||||||||||||||||||\n",
      "|||||||||||||||||||||||\n",
      "|||||||||||||||||||||||\n",
      "|||||||||||||||||||||||\n",
      "|||||||||||||||||||||||\n",
      "|||||||||||||||||||||||\n",
      "|||||||||||||||||||||||\n",
      "|||||||||||||||||||||||\n",
      "|||||||||||||||||||||||\n",
      "|||||||||||||||||||||||\n",
      "|||||||||||||||||||||||\n",
      "|||||||||||||||||||||||\n",
      "|||||||||||||||||||||||\n",
      "|||||220||||||||||||||||||\n",
      "||||||220|||||||||||||||||\n",
      "||||||21|||||||||||||||||\n",
      "||||||2|||||||||||||||||\n",
      "|||||||||||||||||||||||\n",
      "||||||||222|||||||||||||||\n",
      "||||||220||||- shot noise co|||||nsidered||||||||\n",
      "||||||221||||- shot noise co|||||nsidered||||||||\n",
      "|||||||||||||||||||||||\n",
      "||||||||22|||||||||||||||\n",
      "||||||2||||- shot noise co|||||nsidered||||||||\n",
      "|||||||||||||||||||||||\n",
      "**0.9** **0.92** **0.94** **0.96** **0.98** **1**\n",
      "**Confidence Interval**\n",
      "**Figura 2. Worst case scenario secure key rate in function of confidence level.**\n",
      "**The different numbers of symbols used in their estimation are identified by**\n",
      "**color and by the different markers used, while the consideration or not of**\n",
      "**the shot noise uncertainty is identified by the use of full or dashed lines.**\n",
      "### experimental setup, 8  more samples are available for the estimation of the shot noise than are available for the estimation of the channel parameters. First, it was assumed that only the uncertainty of the channel parameters themselves was taken into account, results which are presented in full-line, then the uncertainty inherent to the shot noise estimate was included in the results, presented here in dash-line. We see that, when considering the uncertainty of the shot noise estimate, there is a clear degradation in the achievable secure key rate, with the situation using 2 [20] symbols in the estimation not being able to generate a key with even 90% confidence of its security. Meanwhile, for the results as- suming 2 [21] and 2 [22] symbols used in the estimation process, we see a reduction of 2.4% and 0.3% in the maximum admissible confidence interval. These results, in conjunction with the smaller distance observed between the curves corresponding to a higher number of symbols used in the estimation, show that as more samples are used in the estimation of the shot noise, the less the impact of its uncertainty will be, due to the combined effect of the decrease of the width of the shot noises and channel parameters uncertainty in- tervals, which will cause the worst case scenario performances to approach the systems maximum performance. The optimal number of samples for use in each situation will depend on the observed channel parameters, as the lower the systems performance is, the less it will be able to withstand the impact on performance and thus more samples will be necessary, and on the desired confidence interval.\n",
      "## **4. Conclusion**\n",
      "### In this work, we show the importance of taking into account the uncertainty of the esti- mation of the shot noise while evaluating the security of a CV-QKD system. We present experimental results showing that the performance of the system is greatly degraded by the uncertainty of the shot noise estimate, something that can be mitigated by either using\n",
      "\n",
      "### more symbols in the estimation or by using a higher sampling-rate in the acquisition, which will result in a higher number of samples available for estimating the shot noise while maintaining the same number of symbols. Acknowledgments: This work was supported in part by Fundac  ao para a Ciencia e a Tecnologia (FCT) through national funds, by the European Regional Develop- ment Fund (FEDER), through the Competitiveness and Internationalization Opera- tional Programme (COMPETE 2020) of the Portugal 2020 framework, under the PhD Grant SFRH/BD/139867/2018, projects UIDB/50025/2020, UIDP/50025/2020, UIDB/50008/2020-UIDP/50008/2020 (action QuRUNNER and QUESTS).\n",
      "## **Referencias**\n",
      "### Almeida, M. (2021). Practical security limits of continuous-variable quantum key distri- bution. Masters thesis, University of Aveiro. Almeida, M., Pereira, D., Muga, N., Fac ao, M., Pinto, A. N., and Silva, N. A. (2021). Secret key rate of multi-ring m-apsk continuous variable quantum key distribution. Optics Express . Bennett, C. H. and Brassard, G. (1984). Quantum cryptography: Public key distribution and con tos5. In Proceedings of the International Conference on Computers, Systems and Signal Processing . Denys, A., Brown, P., and Leverrier, A. (2021). Explicit asymptotic secret key rate of continuous-variable quantum key distribution with an arbitrary modulation. Quantum, 5:540. Faruk, M. S. and Savory, S. J. (2017). Digital signal processing for coherent transceivers employing multilevel formats. Journal of Lightwave Technology, 35(5):11251141. Grosshans, F. and Grangier, P. (2002). Continuous variable quantum cryptography using coherent states. Physical Review Letters, 88(5):057902. Kleis, S., Rueckmann, M., and Schaeffer, C. G. (2017). Continuous variable quantum key distribution with a real local oscillator using simultaneous pilot signals. Optics letters, 42(8):15881591. Leverrier, A. (2009). Theoretical study of continuous-variable quantum key distribution . PhD thesis, T el ecom ParisTech. Leverrier, A., Grosshans, F., and Grangier, P. (2010). Finite-size analysis of a continuous- variable quantum key distribution. Physical Review A, 81(6):062343. Pereira, D., Silva, N. A., and Pinto, A. N. (2021). A polarization diversity cv-qkd detec- tion scheme for channels with strong polarization drift. In 2021 IEEE International Conference on Quantum Computing and Engineering (QCE), pages 469470. IEEE. Qi, B., Lougovski, P., Pooser, R., Grice, W., and Bobrek, M. (2015). Generating the local oscillator locally in continuous-variable quantum key distribution based on coherent detection. Physical Review X, 5(4):041009. Ralph, T. C. (1999). Continuous variable quantum cryptography. Phys. Rev. A, 61:010303. Sergienko, A. V. (2018). Quantum communications and cryptography . CRC press, .\n"
     ]
    }
   ],
   "source": [
    "print(preprocessed_md_text)"
   ]
  }
 ],
 "metadata": {
  "kernelspec": {
   "display_name": "Python 3",
   "language": "python",
   "name": "python3"
  },
  "language_info": {
   "codemirror_mode": {
    "name": "ipython",
    "version": 3
   },
   "file_extension": ".py",
   "mimetype": "text/x-python",
   "name": "python",
   "nbconvert_exporter": "python",
   "pygments_lexer": "ipython3",
   "version": "3.11.10"
  }
 },
 "nbformat": 4,
 "nbformat_minor": 5
}
