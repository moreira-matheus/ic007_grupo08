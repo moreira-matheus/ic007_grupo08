{
 "cells": [
  {
   "cell_type": "markdown",
   "id": "f34f48a3",
   "metadata": {},
   "source": [
    "Ref.:\n",
    "https://pymupdf.readthedocs.io/en/latest/pymupdf4llm/index.html"
   ]
  },
  {
   "cell_type": "code",
   "execution_count": 62,
   "id": "3050daae",
   "metadata": {},
   "outputs": [],
   "source": [
    "# Using py3.11\n",
    "#!pip install nltk\n",
    "#!pip install PyMuPDF==1.25.5\n",
    "#!pip install pymupdf4llm\n",
    "#!pip install deep-translator"
   ]
  },
  {
   "cell_type": "code",
   "execution_count": 63,
   "id": "fce2dc74",
   "metadata": {},
   "outputs": [],
   "source": [
    "import os\n",
    "import re\n",
    "import nltk\n",
    "import tqdm\n",
    "import pymupdf4llm\n",
    "from unicodedata import normalize"
   ]
  },
  {
   "cell_type": "code",
   "execution_count": 64,
   "id": "828b6511",
   "metadata": {},
   "outputs": [],
   "source": [
    "from nltk.tokenize import sent_tokenize\n",
    "from deep_translator import GoogleTranslator"
   ]
  },
  {
   "cell_type": "code",
   "execution_count": 65,
   "id": "a1eabacd",
   "metadata": {},
   "outputs": [
    {
     "name": "stderr",
     "output_type": "stream",
     "text": [
      "[nltk_data] Downloading package punkt to /home/matheus/nltk_data...\n",
      "[nltk_data]   Package punkt is already up-to-date!\n",
      "[nltk_data] Downloading package punkt_tab to\n",
      "[nltk_data]     /home/matheus/nltk_data...\n",
      "[nltk_data]   Package punkt_tab is already up-to-date!\n",
      "[nltk_data] Downloading package stopwords to\n",
      "[nltk_data]     /home/matheus/nltk_data...\n",
      "[nltk_data]   Package stopwords is already up-to-date!\n",
      "[nltk_data] Error loading perluni: Package 'perluni' not found in\n",
      "[nltk_data]     index\n",
      "[nltk_data] Downloading package nonbreaking_prefixes to\n",
      "[nltk_data]     /home/matheus/nltk_data...\n",
      "[nltk_data]   Package nonbreaking_prefixes is already up-to-date!\n"
     ]
    },
    {
     "data": {
      "text/plain": [
       "True"
      ]
     },
     "execution_count": 65,
     "metadata": {},
     "output_type": "execute_result"
    }
   ],
   "source": [
    "nltk.download('punkt')\n",
    "nltk.download('punkt_tab')\n",
    "nltk.download('stopwords') # For improved tokenization, optionally download stopwords\n",
    "nltk.download('perluni') # To handle Unicode characters effectively\n",
    "nltk.download('nonbreaking_prefixes')"
   ]
  },
  {
   "cell_type": "code",
   "execution_count": 66,
   "id": "a5f59da6",
   "metadata": {},
   "outputs": [],
   "source": [
    "def pre_process_md(md_text_):\n",
    "    md_text = normalize('NFKD', md_text_).encode('ascii','ignore').decode(\"utf-8\")\n",
    "    md_text = re.sub(r'\\n+', '\\n', md_text).strip()\n",
    "    md_text = re.sub(r\"-{3,}\", \"\", md_text).strip()\n",
    "\n",
    "    return md_text\n",
    "\n",
    "def remove_references(md_text):\n",
    "    return md_text.split(\"## **References**\").pop(0)\n",
    "\n",
    "def translate_text(text, src_lang, tgt_lang):\n",
    "    all_translated = []\n",
    "\n",
    "    for sentence in tqdm.tqdm(sent_tokenize(text)):\n",
    "        translated = GoogleTranslator(\n",
    "            source=src_lang,\n",
    "            target=tgt_lang\n",
    "        ).translate(sentence)\n",
    "        \n",
    "        all_translated.append(translated)\n",
    "    \n",
    "    return ' '.join(all_translated)\n",
    "\n",
    "def post_process_md(md_text_):\n",
    "    if md_text_ is None:\n",
    "        return None\n",
    "    \n",
    "    md_text = re.sub(r\"\\*{1,}\", \"\", md_text_).strip()\n",
    "    md_text = re.sub(r\"#{1,}\", \"\", md_text).strip()\n",
    "    md_text = re.sub(r\"-\\* \\*\", \"\", md_text).strip()\n",
    "    md_text = re.sub(r\"\\* \\*\", \" \", md_text).strip()\n",
    "    md_text = re.sub(r\"\\n\", \" \", md_text).strip()\n",
    "\n",
    "    return md_text"
   ]
  },
  {
   "cell_type": "markdown",
   "id": "9e14279b",
   "metadata": {},
   "source": [
    "### Extraindo texto do PDF:"
   ]
  },
  {
   "cell_type": "code",
   "execution_count": 67,
   "id": "0cc36b62",
   "metadata": {},
   "outputs": [],
   "source": [
    "DIR = \"./artigos/\"\n",
    "articles_md = []\n",
    "\n",
    "for fname in os.listdir(DIR):\n",
    "    full_fname = os.path.join(DIR, fname)\n",
    "    md_text = pymupdf4llm.to_markdown(full_fname)\n",
    "    pre_processed_md = pre_process_md(md_text)\n",
    "\n",
    "    articles_md.append(pre_processed_md)\n"
   ]
  },
  {
   "cell_type": "code",
   "execution_count": 68,
   "id": "a7ea0057",
   "metadata": {},
   "outputs": [],
   "source": [
    "text = articles_md[0][:]\n",
    "text = remove_references(text)\n",
    "text = post_process_md(text)"
   ]
  },
  {
   "cell_type": "markdown",
   "id": "faacdfa8",
   "metadata": {},
   "source": [
    "### Traduzindo texto para Português:"
   ]
  },
  {
   "cell_type": "code",
   "execution_count": 69,
   "id": "4fa32313",
   "metadata": {},
   "outputs": [
    {
     "name": "stderr",
     "output_type": "stream",
     "text": [
      "100%|██████████| 227/227 [01:17<00:00,  2.91it/s]\n"
     ]
    }
   ],
   "source": [
    "translated = translate_text(\n",
    "    text, \"english\", \"portuguese\"\n",
    ")"
   ]
  },
  {
   "cell_type": "code",
   "execution_count": 70,
   "id": "05f9799c",
   "metadata": {},
   "outputs": [],
   "source": [
    "with open(\"artigo.txt\", \"w\") as arq:\n",
    "    arq.write(translated)"
   ]
  },
  {
   "cell_type": "code",
   "execution_count": 71,
   "id": "3c840fff",
   "metadata": {},
   "outputs": [],
   "source": [
    "#from IPython.display import display_markdown\n",
    "#display_markdown(articles_md[0])"
   ]
  }
 ],
 "metadata": {
  "kernelspec": {
   "display_name": "Python 3",
   "language": "python",
   "name": "python3"
  },
  "language_info": {
   "codemirror_mode": {
    "name": "ipython",
    "version": 3
   },
   "file_extension": ".py",
   "mimetype": "text/x-python",
   "name": "python",
   "nbconvert_exporter": "python",
   "pygments_lexer": "ipython3",
   "version": "3.11.10"
  }
 },
 "nbformat": 4,
 "nbformat_minor": 5
}
