{
 "cells": [
  {
   "cell_type": "markdown",
   "id": "f34f48a3",
   "metadata": {},
   "source": [
    "Ref.:\n",
    "https://pymupdf.readthedocs.io/en/latest/pymupdf4llm/index.html"
   ]
  },
  {
   "cell_type": "code",
   "execution_count": null,
   "id": "3050daae",
   "metadata": {},
   "outputs": [
    {
     "name": "stdout",
     "output_type": "stream",
     "text": [
      "Collecting pymupdf4llm\n",
      "  Using cached pymupdf4llm-0.0.21-py3-none-any.whl.metadata (4.7 kB)\n",
      "Requirement already satisfied: pymupdf>=1.25.5 in /home/matheus/Projects/simple-rag-llm-chatbot/.conda/lib/python3.11/site-packages (from pymupdf4llm) (1.25.5)\n",
      "Using cached pymupdf4llm-0.0.21-py3-none-any.whl (28 kB)\n",
      "Installing collected packages: pymupdf4llm\n",
      "Successfully installed pymupdf4llm-0.0.21\n"
     ]
    }
   ],
   "source": [
    "# Using py3.11\n",
    "#!pip install PyMuPDF==1.25.5\n",
    "#!pip install pymupdf4llm"
   ]
  },
  {
   "cell_type": "code",
   "execution_count": 5,
   "id": "fce2dc74",
   "metadata": {},
   "outputs": [],
   "source": [
    "import os\n",
    "import re\n",
    "import pymupdf4llm\n",
    "from unicodedata import normalize"
   ]
  },
  {
   "cell_type": "code",
   "execution_count": 6,
   "id": "a5f59da6",
   "metadata": {},
   "outputs": [],
   "source": [
    "def pre_process_md(md_text_):\n",
    "    md_text = normalize('NFKD', md_text_).encode('ascii','ignore').decode(\"utf-8\")\n",
    "    md_text = re.sub(r'\\n+', '\\n', md_text).strip()\n",
    "    md_text = re.sub(r\"-{3,}\", \"\", md_text).strip()\n",
    "\n",
    "    return md_text\n",
    "\n",
    "def post_process_md(md_text_):\n",
    "    if md_text_ is None:\n",
    "        return None\n",
    "    \n",
    "    md_text = re.sub(r\"\\*{2,}\", \"\", md_text_).strip()\n",
    "    md_text = re.sub(r\"#{2,}\", \"\", md_text).strip()\n",
    "    md_text = re.sub(r\"-\\* \\*\", \"\", md_text).strip()\n",
    "    md_text = re.sub(r\"\\* \\*\", \" \", md_text).strip()\n",
    "\n",
    "    return md_text"
   ]
  },
  {
   "cell_type": "code",
   "execution_count": 7,
   "id": "0cc36b62",
   "metadata": {},
   "outputs": [],
   "source": [
    "DIR = \"./artigos/\"\n",
    "articles_md = []\n",
    "\n",
    "for fname in os.listdir(DIR):\n",
    "    full_fname = os.path.join(DIR, fname)\n",
    "    md_text = pymupdf4llm.to_markdown(full_fname)\n",
    "    pre_processed_md = pre_process_md(md_text)\n",
    "\n",
    "    articles_md.append(pre_processed_md)\n"
   ]
  },
  {
   "cell_type": "code",
   "execution_count": null,
   "id": "3c840fff",
   "metadata": {},
   "outputs": [],
   "source": [
    "#from IPython.display import display_markdown\n",
    "#display_markdown(articles_md[0])"
   ]
  }
 ],
 "metadata": {
  "kernelspec": {
   "display_name": "Python 3",
   "language": "python",
   "name": "python3"
  },
  "language_info": {
   "codemirror_mode": {
    "name": "ipython",
    "version": 3
   },
   "file_extension": ".py",
   "mimetype": "text/x-python",
   "name": "python",
   "nbconvert_exporter": "python",
   "pygments_lexer": "ipython3",
   "version": "3.11.10"
  }
 },
 "nbformat": 4,
 "nbformat_minor": 5
}
